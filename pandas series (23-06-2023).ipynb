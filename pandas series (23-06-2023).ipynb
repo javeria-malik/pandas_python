{
 "cells": [
  {
   "cell_type": "markdown",
   "id": "bf8fc4f7",
   "metadata": {},
   "source": [
    "# convert dictionary to series"
   ]
  },
  {
   "cell_type": "code",
   "execution_count": 2,
   "id": "6579c164",
   "metadata": {},
   "outputs": [],
   "source": [
    "dic={1:\"j\",\"m\":5,\"n\":6}"
   ]
  },
  {
   "cell_type": "code",
   "execution_count": 3,
   "id": "a5bb4578",
   "metadata": {},
   "outputs": [
    {
     "data": {
      "text/plain": [
       "{1: 'j', 'm': 5, 'n': 6}"
      ]
     },
     "execution_count": 3,
     "metadata": {},
     "output_type": "execute_result"
    }
   ],
   "source": [
    "dic"
   ]
  },
  {
   "cell_type": "code",
   "execution_count": 4,
   "id": "8d64207e",
   "metadata": {},
   "outputs": [],
   "source": [
    "import pandas as pd"
   ]
  },
  {
   "cell_type": "code",
   "execution_count": 5,
   "id": "e1ff21a5",
   "metadata": {},
   "outputs": [],
   "source": [
    "p=pd.Series(dic)"
   ]
  },
  {
   "cell_type": "code",
   "execution_count": 6,
   "id": "42207259",
   "metadata": {},
   "outputs": [
    {
     "data": {
      "text/plain": [
       "1    j\n",
       "m    5\n",
       "n    6\n",
       "dtype: object"
      ]
     },
     "execution_count": 6,
     "metadata": {},
     "output_type": "execute_result"
    }
   ],
   "source": [
    "p"
   ]
  },
  {
   "cell_type": "code",
   "execution_count": 7,
   "id": "26f2d2ff",
   "metadata": {},
   "outputs": [
    {
     "data": {
      "text/plain": [
       "'j'"
      ]
     },
     "execution_count": 7,
     "metadata": {},
     "output_type": "execute_result"
    }
   ],
   "source": [
    "p.any()"
   ]
  },
  {
   "cell_type": "code",
   "execution_count": 8,
   "id": "0b4d6024",
   "metadata": {},
   "outputs": [],
   "source": [
    "dic = {\"j\":\"4\",\"m\":5, \"n\": 6}\n"
   ]
  },
  {
   "cell_type": "code",
   "execution_count": 9,
   "id": "1f421443",
   "metadata": {},
   "outputs": [],
   "source": [
    "import pandas as pd\n",
    "\n",
    "p = pd.Series(dic)"
   ]
  },
  {
   "cell_type": "code",
   "execution_count": 10,
   "id": "32020683",
   "metadata": {},
   "outputs": [
    {
     "data": {
      "text/plain": [
       "j    4\n",
       "m    5\n",
       "n    6\n",
       "dtype: object"
      ]
     },
     "execution_count": 10,
     "metadata": {},
     "output_type": "execute_result"
    }
   ],
   "source": [
    "p"
   ]
  },
  {
   "cell_type": "code",
   "execution_count": 11,
   "id": "6851686a",
   "metadata": {},
   "outputs": [
    {
     "name": "stdout",
     "output_type": "stream",
     "text": [
      "4\n"
     ]
    }
   ],
   "source": [
    "print(p.any())\n"
   ]
  },
  {
   "cell_type": "code",
   "execution_count": 12,
   "id": "eeeb19e2",
   "metadata": {},
   "outputs": [],
   "source": [
    "week_days={\"a\":\"b\",\"c\":\"d\",\"e\":\"f\",\"g\":\"h\"}"
   ]
  },
  {
   "cell_type": "code",
   "execution_count": 13,
   "id": "b7485791",
   "metadata": {},
   "outputs": [],
   "source": [
    "week_series=pd.Series(week_days)"
   ]
  },
  {
   "cell_type": "code",
   "execution_count": 14,
   "id": "79b4cf37",
   "metadata": {},
   "outputs": [
    {
     "data": {
      "text/plain": [
       "a    b\n",
       "c    d\n",
       "e    f\n",
       "g    h\n",
       "dtype: object"
      ]
     },
     "execution_count": 14,
     "metadata": {},
     "output_type": "execute_result"
    }
   ],
   "source": [
    "week_series"
   ]
  },
  {
   "cell_type": "code",
   "execution_count": 15,
   "id": "2665420c",
   "metadata": {},
   "outputs": [
    {
     "name": "stdout",
     "output_type": "stream",
     "text": [
      "b\n"
     ]
    }
   ],
   "source": [
    "print(week_series.any())"
   ]
  },
  {
   "cell_type": "code",
   "execution_count": 16,
   "id": "f67ace5a",
   "metadata": {},
   "outputs": [],
   "source": [
    "week_days={\"a\":3,\"c\":4,\"e\":5,\"g\":6}"
   ]
  },
  {
   "cell_type": "code",
   "execution_count": 17,
   "id": "3289a79c",
   "metadata": {},
   "outputs": [],
   "source": [
    "week_series=pd.Series(week_days)"
   ]
  },
  {
   "cell_type": "code",
   "execution_count": 18,
   "id": "a0279095",
   "metadata": {},
   "outputs": [
    {
     "data": {
      "text/plain": [
       "a    3\n",
       "c    4\n",
       "e    5\n",
       "g    6\n",
       "dtype: int64"
      ]
     },
     "execution_count": 18,
     "metadata": {},
     "output_type": "execute_result"
    }
   ],
   "source": [
    "week_series"
   ]
  },
  {
   "cell_type": "code",
   "execution_count": 19,
   "id": "f8a381ea",
   "metadata": {},
   "outputs": [
    {
     "name": "stdout",
     "output_type": "stream",
     "text": [
      "True\n"
     ]
    }
   ],
   "source": [
    "print(week_series.any())"
   ]
  },
  {
   "cell_type": "code",
   "execution_count": 20,
   "id": "067b9bb4",
   "metadata": {},
   "outputs": [
    {
     "data": {
      "text/plain": [
       "a     6\n",
       "c     8\n",
       "e    10\n",
       "g    12\n",
       "dtype: int64"
      ]
     },
     "execution_count": 20,
     "metadata": {},
     "output_type": "execute_result"
    }
   ],
   "source": [
    "week_series*2"
   ]
  },
  {
   "cell_type": "code",
   "execution_count": 21,
   "id": "c5464a74",
   "metadata": {},
   "outputs": [],
   "source": [
    "import numpy as np"
   ]
  },
  {
   "cell_type": "code",
   "execution_count": 22,
   "id": "6b384f0b",
   "metadata": {},
   "outputs": [
    {
     "data": {
      "text/plain": [
       "a     20.085537\n",
       "c     54.598150\n",
       "e    148.413159\n",
       "g    403.428793\n",
       "dtype: float64"
      ]
     },
     "execution_count": 22,
     "metadata": {},
     "output_type": "execute_result"
    }
   ],
   "source": [
    "np.exp(week_series)"
   ]
  },
  {
   "cell_type": "code",
   "execution_count": 23,
   "id": "0c5dd29d",
   "metadata": {},
   "outputs": [
    {
     "data": {
      "text/plain": [
       "'n you are only passing a dict, the index in the resulting Series will have the dict’s\\nkeys in sorted order. You can override this by passing the dict keys in the order you\\nwant them to appear in the resulting Series'"
      ]
     },
     "execution_count": 23,
     "metadata": {},
     "output_type": "execute_result"
    }
   ],
   "source": [
    "\"\"\"n you are only passing a dict, the index in the resulting Series will have the dict’s\n",
    "keys in sorted order. You can override this by passing the dict keys in the order you\n",
    "want them to appear in the resulting Series\"\"\""
   ]
  },
  {
   "cell_type": "code",
   "execution_count": 24,
   "id": "5a1394f8",
   "metadata": {},
   "outputs": [],
   "source": [
    "countries={\"pak\":4500,\"india\":6700,\"bangladesh\":8900,\"afghanistan\":9000}"
   ]
  },
  {
   "cell_type": "code",
   "execution_count": 25,
   "id": "0ede9106",
   "metadata": {},
   "outputs": [
    {
     "data": {
      "text/plain": [
       "{'pak': 4500, 'india': 6700, 'bangladesh': 8900, 'afghanistan': 9000}"
      ]
     },
     "execution_count": 25,
     "metadata": {},
     "output_type": "execute_result"
    }
   ],
   "source": [
    "countries"
   ]
  },
  {
   "cell_type": "code",
   "execution_count": 26,
   "id": "409b07c7",
   "metadata": {},
   "outputs": [],
   "source": [
    "data=[\"india\",\"pakistan\",\"khi\",\"usa\"]"
   ]
  },
  {
   "cell_type": "code",
   "execution_count": 27,
   "id": "738cfbc8",
   "metadata": {},
   "outputs": [],
   "source": [
    "s=pd.Series(countries,index=data)# will give value to these which are in counties ither behave null"
   ]
  },
  {
   "cell_type": "code",
   "execution_count": 28,
   "id": "0bd6413c",
   "metadata": {},
   "outputs": [
    {
     "data": {
      "text/plain": [
       "india       6700.0\n",
       "pakistan       NaN\n",
       "khi            NaN\n",
       "usa            NaN\n",
       "dtype: float64"
      ]
     },
     "execution_count": 28,
     "metadata": {},
     "output_type": "execute_result"
    }
   ],
   "source": [
    "s\n"
   ]
  },
  {
   "cell_type": "code",
   "execution_count": 29,
   "id": "c7e6bc81",
   "metadata": {},
   "outputs": [],
   "source": [
    "data1=[\"india\",\"pak\",\"afghanistan\"]"
   ]
  },
  {
   "cell_type": "code",
   "execution_count": 30,
   "id": "c899909e",
   "metadata": {},
   "outputs": [],
   "source": [
    "f=pd.Series(countries,index=data1)"
   ]
  },
  {
   "cell_type": "markdown",
   "id": "999d915a",
   "metadata": {},
   "source": [
    "# use of isnull"
   ]
  },
  {
   "cell_type": "code",
   "execution_count": 34,
   "id": "792e26c2",
   "metadata": {},
   "outputs": [
    {
     "data": {
      "text/plain": [
       "india       False\n",
       "pakistan     True\n",
       "khi          True\n",
       "usa          True\n",
       "dtype: bool"
      ]
     },
     "execution_count": 34,
     "metadata": {},
     "output_type": "execute_result"
    }
   ],
   "source": [
    "pd.isnull(s)"
   ]
  },
  {
   "cell_type": "code",
   "execution_count": 35,
   "id": "a6025bd6",
   "metadata": {},
   "outputs": [
    {
     "data": {
      "text/plain": [
       "india          6700\n",
       "pak            4500\n",
       "afghanistan    9000\n",
       "dtype: int64"
      ]
     },
     "execution_count": 35,
     "metadata": {},
     "output_type": "execute_result"
    }
   ],
   "source": [
    "f"
   ]
  },
  {
   "cell_type": "code",
   "execution_count": 36,
   "id": "c69bcd09",
   "metadata": {},
   "outputs": [
    {
     "data": {
      "text/plain": [
       "india          False\n",
       "pak            False\n",
       "afghanistan    False\n",
       "dtype: bool"
      ]
     },
     "execution_count": 36,
     "metadata": {},
     "output_type": "execute_result"
    }
   ],
   "source": [
    "pd.isnull(f)"
   ]
  },
  {
   "cell_type": "markdown",
   "id": "cd1fe79f",
   "metadata": {},
   "source": [
    "# notnull\n"
   ]
  },
  {
   "cell_type": "code",
   "execution_count": 37,
   "id": "fc71d396",
   "metadata": {},
   "outputs": [
    {
     "data": {
      "text/plain": [
       "india          True\n",
       "pak            True\n",
       "afghanistan    True\n",
       "dtype: bool"
      ]
     },
     "execution_count": 37,
     "metadata": {},
     "output_type": "execute_result"
    }
   ],
   "source": [
    "pd.notnull(f)"
   ]
  },
  {
   "cell_type": "code",
   "execution_count": null,
   "id": "a361bc02",
   "metadata": {},
   "outputs": [],
   "source": []
  }
 ],
 "metadata": {
  "kernelspec": {
   "display_name": "Python 3",
   "language": "python",
   "name": "python3"
  },
  "language_info": {
   "codemirror_mode": {
    "name": "ipython",
    "version": 3
   },
   "file_extension": ".py",
   "mimetype": "text/x-python",
   "name": "python",
   "nbconvert_exporter": "python",
   "pygments_lexer": "ipython3",
   "version": "3.8.8"
  }
 },
 "nbformat": 4,
 "nbformat_minor": 5
}
